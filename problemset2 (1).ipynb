{
  "cells": [
    {
      "cell_type": "markdown",
      "id": "f36a2146",
      "metadata": {
        "id": "f36a2146"
      },
      "source": [
        "*이름*: 이장범\n",
        "\n",
        "학번:20171722"
      ]
    },
    {
      "cell_type": "markdown",
      "id": "069c04dd",
      "metadata": {
        "id": "069c04dd"
      },
      "source": [
        "# Neural networks with PyTorch\n",
        "\n",
        "Pytorch의 `nn.module`을 활용하여 만드는 유용한 방법을 학습합니다.\n",
        "\n",
        "<div style=\"text-align:center\"><img src='https://drive.google.com/uc?export=download&id=1J2SeiPpVJs1-ML2BdLrcxkGGmHpRxIVE' width=\"250\" height=\"200\"> \n",
        "\n",
        "### Lego block coding! </div>"
      ]
    },
    {
      "cell_type": "code",
      "execution_count": 5,
      "id": "2fd06918",
      "metadata": {
        "colab": {
          "base_uri": "https://localhost:8080/"
        },
        "id": "2fd06918",
        "outputId": "32f753d0-92d2-4402-f222-d50a14474f00"
      },
      "outputs": [
        {
          "output_type": "execute_result",
          "data": {
            "text/plain": [
              "<torch._C.Generator at 0x7f721ac87290>"
            ]
          },
          "metadata": {},
          "execution_count": 5
        }
      ],
      "source": [
        "import torch\n",
        "import numpy as np\n",
        "\n",
        "from torch import nn\n",
        "import torch.nn.functional as F\n",
        "from collections import OrderedDict\n",
        "\n",
        "torch.manual_seed(0)"
      ]
    },
    {
      "cell_type": "markdown",
      "id": "d605a354",
      "metadata": {
        "id": "d605a354"
      },
      "source": [
        "*이탤릭체 텍스트*`nn.Linear`: $Z^{[\\ell]} = A^{[\\ell-1]}W^T+b$\n",
        "연산.\n",
        "\n",
        "해당 layer의 \n",
        "\n",
        "- 입력 차원 `n_input=30`\n",
        "- 출력 차원 `n_output=60`\n"
      ]
    },
    {
      "cell_type": "code",
      "execution_count": 6,
      "id": "0fe1c09d",
      "metadata": {
        "id": "0fe1c09d"
      },
      "outputs": [],
      "source": [
        "# Example of nn.linear\n",
        "linear_layer1 = nn.Linear(30, 60)"
      ]
    },
    {
      "cell_type": "code",
      "execution_count": 7,
      "id": "1e4a14fd",
      "metadata": {
        "colab": {
          "base_uri": "https://localhost:8080/"
        },
        "id": "1e4a14fd",
        "outputId": "b97ddb73-dc7a-4528-ac03-e437848a9ffe"
      },
      "outputs": [
        {
          "output_type": "execute_result",
          "data": {
            "text/plain": [
              "torch.Size([60, 60])"
            ]
          },
          "metadata": {},
          "execution_count": 7
        }
      ],
      "source": [
        "A = torch.randn(60, 30)\n",
        "linear_layer1(A).shape"
      ]
    },
    {
      "cell_type": "markdown",
      "id": "82bcbcbf",
      "metadata": {
        "id": "82bcbcbf"
      },
      "source": [
        "How to get the weights and bias of each `nn.Linear`"
      ]
    },
    {
      "cell_type": "code",
      "execution_count": 8,
      "id": "e636fd8a",
      "metadata": {
        "id": "e636fd8a"
      },
      "outputs": [],
      "source": [
        "# Example of weights\n",
        "linear_layer1.weight.data = torch.ones_like(linear_layer1.weight)"
      ]
    },
    {
      "cell_type": "code",
      "execution_count": 31,
      "id": "214864da-24f2-454f-8f90-3db57cfefa91",
      "metadata": {
        "colab": {
          "base_uri": "https://localhost:8080/"
        },
        "id": "214864da-24f2-454f-8f90-3db57cfefa91",
        "outputId": "cad93ce5-008b-4813-afc6-17deb6cf9811"
      },
      "outputs": [
        {
          "output_type": "execute_result",
          "data": {
            "text/plain": [
              "Parameter containing:\n",
              "tensor([[1., 1., 1.,  ..., 1., 1., 1.],\n",
              "        [1., 1., 1.,  ..., 1., 1., 1.],\n",
              "        [1., 1., 1.,  ..., 1., 1., 1.],\n",
              "        ...,\n",
              "        [1., 1., 1.,  ..., 1., 1., 1.],\n",
              "        [1., 1., 1.,  ..., 1., 1., 1.],\n",
              "        [1., 1., 1.,  ..., 1., 1., 1.]], requires_grad=True)"
            ]
          },
          "metadata": {},
          "execution_count": 31
        }
      ],
      "source": [
        "linear_layer1.weight "
      ]
    },
    {
      "cell_type": "markdown",
      "id": "94a96b2d",
      "metadata": {
        "id": "94a96b2d"
      },
      "source": [
        "### NN example\n",
        "\n",
        "- input units: 20\n",
        "- hidden layer: 30, 40\n",
        "- output units: 3\n",
        "- activation function: ReLU\n",
        "- output layer: No activation\n",
        "\n"
      ]
    },
    {
      "cell_type": "code",
      "execution_count": 10,
      "id": "9c09e678",
      "metadata": {
        "id": "9c09e678"
      },
      "outputs": [],
      "source": [
        "# Simple NN construction\n",
        "\n",
        "class FCN(nn.Module):\n",
        "    def __init__(self):\n",
        "        super().__init__()\n",
        "        \n",
        "        self.lin1 = nn.Linear(20, 30)\n",
        "        self.lin2 = nn.Linear(30, 40)\n",
        "        self.lin3 = nn.Linear(40, 3)\n",
        "        self.relu = nn.ReLU(True)\n",
        "        \n",
        "    def forward(self, x):\n",
        "        x = self.lin1(x)\n",
        "        x = self.relu(x)\n",
        "        x = self.lin2(x)\n",
        "        x = self.relu(x)\n",
        "        x = self.lin3(x)\n",
        "        return x\n",
        "    \n"
      ]
    },
    {
      "cell_type": "code",
      "execution_count": 11,
      "id": "88009d27",
      "metadata": {
        "id": "88009d27"
      },
      "outputs": [],
      "source": [
        "Xtrain = torch.randn(60, 20)\n",
        "\n",
        "model = FCN()\n",
        "# model(Xtrain)"
      ]
    },
    {
      "cell_type": "code",
      "execution_count": 12,
      "id": "f646b76f",
      "metadata": {
        "colab": {
          "base_uri": "https://localhost:8080/"
        },
        "id": "f646b76f",
        "outputId": "e0814014-e9d6-451d-a882-34309b927819"
      },
      "outputs": [
        {
          "output_type": "execute_result",
          "data": {
            "text/plain": [
              "FCN(\n",
              "  (lin1): Linear(in_features=20, out_features=30, bias=True)\n",
              "  (lin2): Linear(in_features=30, out_features=40, bias=True)\n",
              "  (lin3): Linear(in_features=40, out_features=3, bias=True)\n",
              "  (relu): ReLU(inplace=True)\n",
              ")"
            ]
          },
          "metadata": {},
          "execution_count": 12
        }
      ],
      "source": [
        "model"
      ]
    },
    {
      "cell_type": "code",
      "execution_count": 13,
      "id": "5a24fa36",
      "metadata": {
        "id": "5a24fa36"
      },
      "outputs": [],
      "source": [
        "# Example of parameters() in models\n",
        "# param_iterator = model.parameters()\n",
        "\n",
        "# for param in param_iterator:\n",
        "#     print(param)\n"
      ]
    },
    {
      "cell_type": "code",
      "execution_count": 14,
      "id": "929f4cb3",
      "metadata": {
        "id": "929f4cb3"
      },
      "outputs": [],
      "source": [
        "# nn.Sequential() example\n",
        "\n",
        "class FCN_seq(nn.Module):\n",
        "    def __init__(self):\n",
        "        super().__init__()\n",
        "        \n",
        "        self.fc = nn.Sequential(nn.Linear(20, 30),\n",
        "                      nn.ReLU(True),\n",
        "                      nn.Linear(30, 40),\n",
        "                      nn.ReLU(True),\n",
        "                      nn.Linear(40, 3)\n",
        "        )\n",
        "        \n",
        "    def forward(self, x):\n",
        "        return self.fc(x)\n",
        "        \n",
        "        \n",
        "        \n",
        "# self.lin1 = nn.Linear(20, 30)\n",
        "# self.lin2 = nn.Linear(30, 40)\n",
        "# self.lin3 = nn.Linear(40, 3)\n",
        "# self.relu = nn.ReLU(True)"
      ]
    },
    {
      "cell_type": "code",
      "execution_count": 15,
      "id": "653f0bb6",
      "metadata": {
        "colab": {
          "base_uri": "https://localhost:8080/"
        },
        "id": "653f0bb6",
        "outputId": "fac46eb9-4137-4cb3-9a82-fc12795d9b33"
      },
      "outputs": [
        {
          "output_type": "execute_result",
          "data": {
            "text/plain": [
              "FCN_seq(\n",
              "  (fc): Sequential(\n",
              "    (0): Linear(in_features=20, out_features=30, bias=True)\n",
              "    (1): ReLU(inplace=True)\n",
              "    (2): Linear(in_features=30, out_features=40, bias=True)\n",
              "    (3): ReLU(inplace=True)\n",
              "    (4): Linear(in_features=40, out_features=3, bias=True)\n",
              "  )\n",
              ")"
            ]
          },
          "metadata": {},
          "execution_count": 15
        }
      ],
      "source": [
        "model_seq = FCN_seq()\n",
        "Xtrain.shape\n",
        "model_seq"
      ]
    },
    {
      "cell_type": "code",
      "execution_count": 35,
      "id": "f0db292b",
      "metadata": {
        "colab": {
          "base_uri": "https://localhost:8080/"
        },
        "id": "f0db292b",
        "outputId": "938be498-d3f9-4175-e380-966b67f69470"
      },
      "outputs": [
        {
          "output_type": "execute_result",
          "data": {
            "text/plain": [
              "Linear(in_features=20, out_features=30, bias=True)"
            ]
          },
          "metadata": {},
          "execution_count": 35
        }
      ],
      "source": [
        "model_seq.fc[0]"
      ]
    },
    {
      "cell_type": "code",
      "execution_count": 17,
      "id": "9a16dc4f",
      "metadata": {
        "id": "9a16dc4f"
      },
      "outputs": [],
      "source": [
        "class FCN_seq_v2(nn.Module):\n",
        "    def __init__(self):\n",
        "        super().__init__()\n",
        "        \n",
        "\n",
        "        \n",
        "        temp = self.fcn_block(20, 30)+self.fcn_block(30, 40)+[nn.Linear(40,1)]\n",
        "        self.fc = nn.Sequential(*temp)\n",
        "        \n",
        "        \n",
        "    def fcn_block(self, in_dim, out_dim):\n",
        "        return [nn.Linear(in_dim, out_dim),\n",
        "                             nn.ReLU(True)]\n",
        "        \n",
        "        \n",
        "    def forward(self, x):\n",
        "        return self.fc(x)\n",
        "        \n",
        "        \n",
        "        \n",
        "# self.lin1 = nn.Linear(20, 30)\n",
        "# self.lin2 = nn.Linear(30, 40)\n",
        "# self.lin3 = nn.Linear(40, 3)\n",
        "# self.relu = nn.ReLU(True)"
      ]
    },
    {
      "cell_type": "code",
      "execution_count": 18,
      "id": "0ac30117",
      "metadata": {
        "colab": {
          "base_uri": "https://localhost:8080/"
        },
        "id": "0ac30117",
        "outputId": "5e368b5a-e3c8-41cb-c02b-9836c544f5bb"
      },
      "outputs": [
        {
          "output_type": "execute_result",
          "data": {
            "text/plain": [
              "FCN_seq_v2(\n",
              "  (fc): Sequential(\n",
              "    (0): Linear(in_features=20, out_features=30, bias=True)\n",
              "    (1): ReLU(inplace=True)\n",
              "    (2): Linear(in_features=30, out_features=40, bias=True)\n",
              "    (3): ReLU(inplace=True)\n",
              "    (4): Linear(in_features=40, out_features=1, bias=True)\n",
              "  )\n",
              ")"
            ]
          },
          "metadata": {},
          "execution_count": 18
        }
      ],
      "source": [
        "model_seq_v2 = FCN_seq_v2()\n",
        "model_seq_v2"
      ]
    },
    {
      "cell_type": "code",
      "execution_count": 38,
      "id": "514cccdd",
      "metadata": {
        "id": "514cccdd"
      },
      "outputs": [],
      "source": [
        "class FCN_final(nn.Module):\n",
        "    def __init__(self, in_dim, hlayer, out_dim):\n",
        "        super().__init__()\n",
        "        \n",
        "        l_list = self.fcn_block(in_dim, hlayer[0])\n",
        "        \n",
        "        for l1, l2 in zip(hlayer[:-1], hlayer[1:]):\n",
        "            l_list = l_list + self.fcn_block(l1, l2)\n",
        "        \n",
        "        l_list = l_list + [nn.Linear(hlayer[-1], out_dim)]\n",
        "      \n",
        "        self.fc = nn.Sequential(*l_list)\n",
        "        \n",
        "        \n",
        "    def fcn_block(self, in_dim, out_dim):\n",
        "        return [nn.Linear(in_dim, out_dim),\n",
        "                             nn.ReLU(True)]\n",
        "        \n",
        "        \n",
        "    def forward(self, x):\n",
        "        return self.fc(x)\n",
        "        \n",
        "        "
      ]
    },
    {
      "cell_type": "code",
      "execution_count": 39,
      "id": "05a543cb",
      "metadata": {
        "id": "05a543cb"
      },
      "outputs": [],
      "source": [
        "hlayer = [30, 40]\n",
        "in_dim = 20\n",
        "out_dim= 3\n",
        "\n",
        "myfcn_final = FCN_final(in_dim, hlayer, out_dim)"
      ]
    },
    {
      "cell_type": "code",
      "execution_count": 21,
      "id": "d545559c",
      "metadata": {
        "colab": {
          "base_uri": "https://localhost:8080/"
        },
        "id": "d545559c",
        "outputId": "ea9976f4-107c-4472-eaf9-b6d1c052d569"
      },
      "outputs": [
        {
          "output_type": "execute_result",
          "data": {
            "text/plain": [
              "FCN_final(\n",
              "  (fc): Sequential(\n",
              "    (0): Linear(in_features=20, out_features=30, bias=True)\n",
              "    (1): ReLU(inplace=True)\n",
              "    (2): Linear(in_features=30, out_features=40, bias=True)\n",
              "    (3): ReLU(inplace=True)\n",
              "    (4): Linear(in_features=40, out_features=3, bias=True)\n",
              "  )\n",
              ")"
            ]
          },
          "metadata": {},
          "execution_count": 21
        }
      ],
      "source": [
        "myfcn_final"
      ]
    },
    {
      "cell_type": "code",
      "execution_count": 22,
      "id": "d419c48e",
      "metadata": {
        "id": "d419c48e"
      },
      "outputs": [],
      "source": [
        "# Ordered dict example\n",
        "# nn.Sequential() example\n",
        "\n",
        "class FCN_seq_ordered_dic(nn.Module):\n",
        "    def __init__(self):\n",
        "        super().__init__()\n",
        "        \n",
        "        self.fc = nn.Sequential(OrderedDict([('lin1', nn.Linear(20, 30)),\n",
        "                      ('relu1', nn.ReLU(True)),\n",
        "                      ('lin2', nn.Linear(30, 40)),\n",
        "                      ('relu2',nn.ReLU(True)),\n",
        "                      ('lin3', nn.Linear(40, 3))\n",
        "                                            ])\n",
        "        )\n",
        "        \n",
        "    def forward(self, x):\n",
        "        return self.fc(x)\n",
        "        \n",
        "        \n",
        "        \n",
        "# self.lin1 = nn.Linear(20, 30)\n",
        "# self.lin2 = nn.Linear(30, 40)\n",
        "# self.lin3 = nn.Linear(40, 3)\n",
        "# self.relu = nn.ReLU(True)"
      ]
    },
    {
      "cell_type": "code",
      "execution_count": 23,
      "id": "a876e852",
      "metadata": {
        "id": "a876e852"
      },
      "outputs": [],
      "source": [
        "# ModuleList(), ModuleDict()"
      ]
    },
    {
      "cell_type": "code",
      "execution_count": null,
      "id": "eb4c2ad8",
      "metadata": {
        "id": "eb4c2ad8"
      },
      "outputs": [],
      "source": [
        "# state_dict() example\n",
        "model.state_dict()"
      ]
    },
    {
      "cell_type": "markdown",
      "id": "45c586f6",
      "metadata": {
        "id": "45c586f6"
      },
      "source": [
        "# Problem Setup\n",
        "\n",
        "<div style=\"text-align:center\"> <img src='https://drive.google.com/uc?export=download&id=1FRhniwGeeutBSJQRdW6GzshMfDrPz7oJ' width=\"250\" height=\"200\"> </div>\n",
        "    \n",
        "Build a Fully connected neural network with\n",
        "\n",
        "- 3 layers\n",
        "- 마지막 layer의 unit 수는 `1` \n",
        "  - 마지막 layer의 activation은 없음 (linear layer)\n",
        "- Data feature 수는 `100`\n",
        "\n",
        "- input unit 수는 data 크기를 보고 맞추세요\n",
        "- hidden layer의 unit 수는 `[80, 50]`\n",
        "  - hidden layer의 activation 함수는 ReLU\n",
        "\n",
        "- model class 명 `myFCN`\n",
        "  - instance 명 `my_model` 생성\n",
        "  - `my_model` 출력"
      ]
    },
    {
      "cell_type": "markdown",
      "id": "15d8150a-5d25-40fe-951a-416a5f022112",
      "metadata": {
        "id": "15d8150a-5d25-40fe-951a-416a5f022112"
      },
      "source": [
        "## Problem 1\n",
        "\n",
        "problem setup에서 구성한 neural network을 `nn.Sequential`을 활용하여 생성하세요"
      ]
    },
    {
      "cell_type": "code",
      "execution_count": 40,
      "id": "3dabeb42",
      "metadata": {
        "id": "3dabeb42"
      },
      "outputs": [],
      "source": [
        "## 사용할 data \n",
        "batch_size = 30\n",
        "num_feature = 100\n",
        "\n",
        "X_train = torch.randn(batch_size, num_feature)"
      ]
    },
    {
      "cell_type": "code",
      "execution_count": 26,
      "id": "dc5c673c-068b-4201-8900-3669a84d420a",
      "metadata": {
        "colab": {
          "base_uri": "https://localhost:8080/"
        },
        "id": "dc5c673c-068b-4201-8900-3669a84d420a",
        "outputId": "d1dbba73-10c2-4394-f32c-6a20dd8aed03"
      },
      "outputs": [
        {
          "output_type": "execute_result",
          "data": {
            "text/plain": [
              "torch.Size([30, 100])"
            ]
          },
          "metadata": {},
          "execution_count": 26
        }
      ],
      "source": [
        "X_train.shape"
      ]
    },
    {
      "cell_type": "code",
      "execution_count": 80,
      "id": "82fc8c73",
      "metadata": {
        "id": "82fc8c73"
      },
      "outputs": [],
      "source": [
        "from torch.nn.modules.linear import Linear #Linear 불러오기\n",
        "from torch.nn.modules.activation import ReLU # ReLU 불러오기\n",
        "# Problem 1 코딩 (매 줄마다 주석 필수 )\n",
        "class myFCN(nn.Module):\n",
        "    def __init__(self):\n",
        "      # 초기화 method\n",
        "        super().__init__()\n",
        "        # input data에 num_features는 100, batch_size 는 30\n",
        "        self.fc = nn.Sequential(nn.Linear(30, 100),\n",
        "                      nn.ReLU(True), # activation function을 relu로 사용,\n",
        "                      nn.Linear(100, 80), # hidden layer에 neruon 개수 80이므로, nn.Linear의 2번째 parameter 값을 80으로 설정했다. \n",
        "                      nn.ReLU(True), # activation function을 relu로 사용,,\n",
        "                      nn.Linear(80, 50),# hidden layer에 neruon 개수 80이므로, nn.Linear의 2번째 parameter 값을 80으로 설정했다. \n",
        "                      nn.ReLU(True), # activation function을 relu로 사용,,\n",
        "                      nn.Linear(50,1)# 마지막 출력 layer에 1로 해야하므로, nn.Linear의 3번째 parameter 값을 고정 값 1로 설정했다.\n",
        "        )\n",
        "        \n",
        "    def forward(self, x): # forward 함수 불러오기\n",
        "        return self.fc(x) # 위에서 만든 self.fc 입력으로 들어오는 x를 넣고, forward pass 진행\n"
      ]
    },
    {
      "cell_type": "code",
      "execution_count": 77,
      "id": "846477b3-37df-43a8-874c-f6c903e797c7",
      "metadata": {
        "id": "846477b3-37df-43a8-874c-f6c903e797c7"
      },
      "outputs": [],
      "source": [
        "my_model=myFCN() # Make myFCN's object "
      ]
    },
    {
      "cell_type": "code",
      "execution_count": 81,
      "id": "a46397a2-bf43-43cd-9c2c-fb1143009f31",
      "metadata": {
        "colab": {
          "base_uri": "https://localhost:8080/"
        },
        "id": "a46397a2-bf43-43cd-9c2c-fb1143009f31",
        "outputId": "e9cd1941-d708-48b3-cd7f-a81592e20e71"
      },
      "outputs": [
        {
          "output_type": "execute_result",
          "data": {
            "text/plain": [
              "myFCN(\n",
              "  (fc): Sequential(\n",
              "    (0): Linear(in_features=30, out_features=100, bias=True)\n",
              "    (1): ReLU(inplace=True)\n",
              "    (2): Linear(in_features=100, out_features=80, bias=True)\n",
              "    (3): ReLU(inplace=True)\n",
              "    (4): Linear(in_features=80, out_features=50, bias=True)\n",
              "    (5): ReLU(inplace=True)\n",
              "    (6): Linear(in_features=50, out_features=1, bias=True)\n",
              "  )\n",
              ")"
            ]
          },
          "metadata": {},
          "execution_count": 81
        }
      ],
      "source": [
        "my_model # object print"
      ]
    },
    {
      "cell_type": "markdown",
      "id": "25fc48cc",
      "metadata": {
        "id": "25fc48cc"
      },
      "source": [
        "## Problem 2\n",
        "\n",
        "problem setup에서 구성한 neural network을 `OrderedDict`을 활용하여 생성하세요\n",
        "- 각 layer의 이름을 주고 생성하세요"
      ]
    },
    {
      "cell_type": "code",
      "execution_count": 73,
      "id": "50011c60",
      "metadata": {
        "id": "50011c60"
      },
      "outputs": [],
      "source": [
        "# 답작성\\\n",
        "class myFCN_dict(nn.Module):\n",
        "    def __init__(self):\n",
        "        super().__init__()\n",
        "        # 초기화 method\n",
        "        self.fc = nn.Sequential(OrderedDict([('layer1', nn.Linear(30, 100)),\n",
        "        # input data에 num_features는 100, batch_size 는 30, OrderedDict\n",
        "                      ('relu1', nn.ReLU(True)),# activation function을 relu로 사용,\n",
        "                      ('layer2', nn.Linear(100, 80)), # hidden layer에 neruon 개수 80이므로, nn.Linear의 2번째 parameter 값을 80으로 설정했다. \n",
        "                      ('relu2',nn.ReLU(True)),# activation function을 relu로 사용,\n",
        "                      ('layer3', nn.Linear(80, 50)), # hidden layer에 neruon 개수 50이므로, nn.Linear의 2번째 parameter 값을 50으로 설정했다. \n",
        "                      ('relu3',nn.ReLU(True)),# activation function을 relu로 사용,\n",
        "                      ('layer3', nn.Linear(50,1)) # 마지막 출력 layer에 1로 해야하므로, nn.Linear의 3번째 parameter 값을 고정 값 1로 설정했다.\n",
        "                                            ])\n",
        "        )\n",
        "        \n",
        "    def forward(self, x): # forward 함수 불러오기\n",
        "        return self.fc(x) # 위에서 만든 self.fc 입력으로 들어오는 x를 넣고, forward pass 진행"
      ]
    },
    {
      "cell_type": "code",
      "source": [
        "my_model2=myFCN_dict() # Make myFCN_dict's object \n",
        "my_model2 # object print"
      ],
      "metadata": {
        "colab": {
          "base_uri": "https://localhost:8080/"
        },
        "id": "mT2wtquOOaWg",
        "outputId": "0044af61-0416-4531-904e-66fce0aa1eae"
      },
      "id": "mT2wtquOOaWg",
      "execution_count": 74,
      "outputs": [
        {
          "output_type": "execute_result",
          "data": {
            "text/plain": [
              "myFCN_dict(\n",
              "  (fc): Sequential(\n",
              "    (layer1): Linear(in_features=30, out_features=100, bias=True)\n",
              "    (relu1): ReLU(inplace=True)\n",
              "    (layer2): Linear(in_features=100, out_features=80, bias=True)\n",
              "    (relu2): ReLU(inplace=True)\n",
              "    (layer3): Linear(in_features=50, out_features=1, bias=True)\n",
              "    (relu3): ReLU(inplace=True)\n",
              "  )\n",
              ")"
            ]
          },
          "metadata": {},
          "execution_count": 74
        }
      ]
    }
  ],
  "metadata": {
    "kernelspec": {
      "display_name": "Python 3 (ipykernel)",
      "language": "python",
      "name": "python3"
    },
    "language_info": {
      "codemirror_mode": {
        "name": "ipython",
        "version": 3
      },
      "file_extension": ".py",
      "mimetype": "text/x-python",
      "name": "python",
      "nbconvert_exporter": "python",
      "pygments_lexer": "ipython3",
      "version": "3.9.7"
    },
    "colab": {
      "name": "problemset2.ipynb",
      "provenance": []
    },
    "accelerator": "GPU"
  },
  "nbformat": 4,
  "nbformat_minor": 5
}