{
  "nbformat": 4,
  "nbformat_minor": 0,
  "metadata": {
    "colab": {
      "name": "pretty2.ipynb",
      "provenance": [],
      "collapsed_sections": []
    },
    "kernelspec": {
      "name": "python3",
      "display_name": "Python 3"
    },
    "language_info": {
      "name": "python"
    },
    "accelerator": "GPU"
  },
  "cells": [
    {
      "cell_type": "code",
      "execution_count": 4,
      "metadata": {
        "colab": {
          "base_uri": "https://localhost:8080/"
        },
        "id": "7h5ue6AUWMJD",
        "outputId": "a3aa147a-ff8e-42a5-fcb2-3cad40dbd608"
      },
      "outputs": [
        {
          "output_type": "stream",
          "name": "stdout",
          "text": [
            "Drive already mounted at /content/drive; to attempt to forcibly remount, call drive.mount(\"/content/drive\", force_remount=True).\n"
          ]
        }
      ],
      "source": [
        "import numpy as np\n",
        "\n",
        "import torch\n",
        "import torch.optim as optim\n",
        "import torch.nn as nn\n",
        "import torch.nn.functional as F\n",
        "from torch.utils.data import DataLoader, TensorDataset\n",
        "from sklearn.metrics import f1_score\n",
        "from sklearn.model_selection import train_test_split\n",
        "\n",
        "import pandas as pd\n",
        "import warnings\n",
        "warnings.filterwarnings(action='ignore')\n",
        "from google.colab import drive\n",
        "drive.mount('/content/drive')"
      ]
    },
    {
      "cell_type": "markdown",
      "source": [
        ""
      ],
      "metadata": {
        "id": "3LE_FCEHcgNm"
      }
    },
    {
      "cell_type": "code",
      "source": [
        "#데이터 불러오기\n",
        "train = pd.read_csv('train.csv')\n",
        "test = pd.read_csv('test.csv')\n",
        "d_code=pd.read_csv('속성_D_코드.csv',index_col=0).T.to_dict()\n",
        "h_code=pd.read_csv('속성_H_코드.csv',index_col=0).T.to_dict()\n",
        "l_code=pd.read_csv('속성_L_코드.csv',index_col=0).T.to_dict()"
      ],
      "metadata": {
        "id": "1CqPbTYrbe7t"
      },
      "execution_count": 5,
      "outputs": []
    },
    {
      "cell_type": "code",
      "source": [
        "train = train.drop(['id', 'contents_open_dt','person_rn', 'contents_rn',\n",
        "# 'person_prefer_d_1','person_prefer_d_2','person_prefer_d_3',\n",
        "# 'contents_attribute_d','person_prefer_h_1','person_prefer_h_2','person_prefer_h_3','contents_attribute_h','contents_attribute_l',\n",
        "'person_prefer_f','person_prefer_g'], axis=1) \n",
        "\n",
        "\n",
        "test = test.drop(['id', 'contents_open_dt','person_rn', 'contents_rn',\n",
        "# 'person_prefer_d_1','person_prefer_d_2','person_prefer_d_3',\n",
        "# 'contents_attribute_d','person_prefer_h_1','person_prefer_h_2','person_prefer_h_3','contents_attribute_h','contents_attribute_l',\n",
        "'person_prefer_f','person_prefer_g'], axis=1)\n",
        "\n",
        "# print(train.head())\n",
        "train['d_l_match_yn']=train['d_l_match_yn'].replace([True,False],[1,0])\n",
        "train['d_m_match_yn']=train['d_m_match_yn'].replace([True,False],[1,0])\n",
        "train['d_s_match_yn']=train['d_s_match_yn'].replace([True,False],[1,0])\n",
        "train['h_l_match_yn']=train['h_l_match_yn'].replace([True,False],[1,0])\n",
        "train['h_m_match_yn']=train['h_m_match_yn'].replace([True,False],[1,0])\n",
        "train['h_s_match_yn']=train['h_s_match_yn'].replace([True,False],[1,0])\n",
        "\n",
        "test['d_l_match_yn']=test['d_l_match_yn'].replace([True,False],[1,0])\n",
        "test['d_m_match_yn']=test['d_m_match_yn'].replace([True,False],[1,0])\n",
        "test['d_s_match_yn']=test['d_s_match_yn'].replace([True,False],[1,0])\n",
        "test['h_l_match_yn']=test['h_l_match_yn'].replace([True,False],[1,0])\n",
        "test['h_m_match_yn']=test['h_m_match_yn'].replace([True,False],[1,0])\n",
        "test['h_s_match_yn']=test['h_s_match_yn'].replace([True,False],[1,0])"
      ],
      "metadata": {
        "id": "TXOzimCFbqaz"
      },
      "execution_count": 6,
      "outputs": []
    },
    {
      "cell_type": "code",
      "source": [
        "device = 'cuda' if torch.cuda.is_available() else 'cpu'\n",
        "\n",
        "# 랜덤 시드 고정\n",
        "torch.manual_seed(42)\n",
        "\n",
        "# GPU 사용 가능일 경우 랜덤 시드 고정\n",
        "if device == 'cuda':\n",
        "    torch.cuda.manual_seed_all(42)"
      ],
      "metadata": {
        "id": "ujICdhOLbu55"
      },
      "execution_count": 7,
      "outputs": []
    },
    {
      "cell_type": "code",
      "source": [
        "x = train.iloc[:, :-1]\n",
        "y = train.iloc[:, -1]\n",
        "\n",
        "x= x.to_numpy()\n",
        "print(x[0])\n",
        "print(y[0])\n",
        "# x=np.where(x > 1000, x/1000, x)\n",
        "# x=np.where(x > 100, x/100, x)\n",
        "# x=np.where(x > 10, x/10, x)\n",
        "# x=x/10\n",
        "x=torch.Tensor(x)\n",
        "\n",
        "print(x.size())\n",
        "print(x[0][1])\n",
        "y=torch.Tensor(y)\n",
        "\n",
        "print(x)\n",
        "x_train, x_valid, y_train, y_valid = train_test_split(x, y, test_size=0.2, shuffle=True, stratify=y, random_state=42)\n",
        "\n",
        "\n",
        "dataset_train = TensorDataset(x_train, y_train)\n",
        "dataloader_train = DataLoader(dataset_train, batch_size=64, shuffle=True)\n",
        "\n",
        "\n",
        "dataset_valid = TensorDataset(x_valid, y_valid)\n",
        "dataloader_valid = DataLoader(dataset_valid, batch_size=64, shuffle=True)\n",
        "\n",
        "\n",
        "x_test=test.iloc[:]\n",
        "x_test=x_test.to_numpy()\n",
        "# x_test=np.where(x_test > 1000, x_test/1000, x_test)\n",
        "# x_test=np.where(x_test > 100, x_test/100, x_test)\n",
        "# x_test=np.where(x_test > 10, x_test/10, x_test)\n",
        "# x_test=x_test/10\n",
        "print(x_test.shape)\n",
        "x_test=torch.FloatTensor(x_test)"
      ],
      "metadata": {
        "colab": {
          "base_uri": "https://localhost:8080/"
        },
        "id": "ZYd65YvBb1QN",
        "outputId": "168b0784-42f6-4016-cb6f-95938402a154"
      },
      "execution_count": 8,
      "outputs": [
        {
          "output_type": "stream",
          "name": "stdout",
          "text": [
            "[   1    1    1    0    0    0    1    4    3    5  275  370  369    8\n",
            "    4   95   59    3    3   10    2    1    2 1608  275    1    4  139]\n",
            "1\n",
            "torch.Size([501951, 28])\n",
            "tensor(1.)\n",
            "tensor([[  1.,   1.,   1.,  ...,   1.,   4., 139.],\n",
            "        [  0.,   0.,   0.,  ...,   1.,   4., 133.],\n",
            "        [  0.,   0.,   0.,  ...,   1.,   4.,  53.],\n",
            "        ...,\n",
            "        [  1.,   1.,   1.,  ...,   2.,   7.,  65.],\n",
            "        [  1.,   0.,   0.,  ...,   3.,   4., 259.],\n",
            "        [  1.,   1.,   1.,  ...,   2.,   5., 289.]])\n",
            "(46404, 28)\n"
          ]
        }
      ]
    },
    {
      "cell_type": "code",
      "source": [
        "class LogisticRegression(nn.Module):\n",
        "    \n",
        "    def __init__(self):\n",
        "        super(LogisticRegression, self).__init__()\n",
        "\n",
        "        # self.linear = nn.Sequential(\n",
        "        self.linear1=nn.Linear(28,16)\n",
        "        self.batch_normal1=nn.BatchNorm1d(16)\n",
        "        self.LeakRelu=nn.LeakyReLU()\n",
        "\n",
        "        self.linear2=nn.Linear(16, 16)\n",
        "        self.batch_normal2=nn.BatchNorm1d(16)\n",
        "        self.LeakRelu=nn.LeakyReLU()\n",
        "\n",
        "        self.linear3=nn.Linear(16, 16)\n",
        "        self.batch_normal3=nn.BatchNorm1d(16)\n",
        "        self.LeakRelu=nn.LeakyReLU()\n",
        "\n",
        "        self.linear4=nn.Linear(16, 16)\n",
        "        self.batch_normal4=nn.BatchNorm1d(16)\n",
        "        self.LeakRelu=nn.LeakyReLU()\n",
        "\n",
        "        self.linear5=nn.Linear(16, 16)\n",
        "        self.batch_normal5=nn.BatchNorm1d(16)\n",
        "        self.LeakRelu=nn.LeakyReLU()\n",
        "\n",
        "        self.linear6=nn.Linear(16, 16)\n",
        "        self.batch_normal6=nn.BatchNorm1d(16)\n",
        "        self.LeakRelu=nn.LeakyReLU()\n",
        "\n",
        "        self.linear7=nn.Linear(16, 1)\n",
        "        self.batch_normal7=nn.BatchNorm1d(1)\n",
        "        self.LeakRelu=nn.LeakyReLU()\n",
        "\n",
        "        self.sigmoid=nn.Sigmoid()    \n",
        "        torch.nn.init.xavier_uniform_(self.linear1.weight)\n",
        "        torch.nn.init.xavier_uniform_(self.linear2.weight)\n",
        "        torch.nn.init.xavier_uniform_(self.linear3.weight)\n",
        "        torch.nn.init.xavier_uniform_(self.linear4.weight)\n",
        "        torch.nn.init.xavier_uniform_(self.linear5.weight)\n",
        "        torch.nn.init.xavier_uniform_(self.linear6.weight)\n",
        "        torch.nn.init.xavier_uniform_(self.linear7.weight)\n",
        "        # )        \n",
        "#  self.linear2,self.batch_normal2, self.LeakRelu, \n",
        "        self.model=nn.Sequential(self.linear1, self.batch_normal1, self.LeakRelu,\n",
        "                                 self.linear2,self.batch_normal2, self.LeakRelu, \n",
        "                                 self.linear3,self.batch_normal3,self.LeakRelu,\n",
        "                                 self.linear4, self.batch_normal4,self.LeakRelu,\n",
        "                                 self.linear5, self.batch_normal5,self.LeakRelu,\n",
        "                                 self.linear6, self.batch_normal6,self.LeakRelu,\n",
        "                                 self.linear7, self.batch_normal7,self.LeakRelu,\n",
        "                                 self.sigmoid)\n",
        "\n",
        "    def forward(self, x):\n",
        "        return self.model(x)\n",
        "\n",
        "model1=LogisticRegression().to(device)"
      ],
      "metadata": {
        "id": "aRpPP4qbcGrH"
      },
      "execution_count": 9,
      "outputs": []
    },
    {
      "cell_type": "code",
      "source": [
        "criterion1=nn.CrossEntropyLoss().to(device)\n",
        "optimizer1 = optim.Adam(model1.parameters(), lr=0.001)\n",
        "print(model1.parameters)"
      ],
      "metadata": {
        "colab": {
          "base_uri": "https://localhost:8080/"
        },
        "id": "-YVgRMCJc-SS",
        "outputId": "abde54c1-4265-4634-964f-f2070eb813c7"
      },
      "execution_count": 10,
      "outputs": [
        {
          "output_type": "stream",
          "name": "stdout",
          "text": [
            "<bound method Module.parameters of LogisticRegression(\n",
            "  (linear1): Linear(in_features=28, out_features=16, bias=True)\n",
            "  (batch_normal1): BatchNorm1d(16, eps=1e-05, momentum=0.1, affine=True, track_running_stats=True)\n",
            "  (LeakRelu): LeakyReLU(negative_slope=0.01)\n",
            "  (linear2): Linear(in_features=16, out_features=16, bias=True)\n",
            "  (batch_normal2): BatchNorm1d(16, eps=1e-05, momentum=0.1, affine=True, track_running_stats=True)\n",
            "  (linear3): Linear(in_features=16, out_features=16, bias=True)\n",
            "  (batch_normal3): BatchNorm1d(16, eps=1e-05, momentum=0.1, affine=True, track_running_stats=True)\n",
            "  (linear4): Linear(in_features=16, out_features=16, bias=True)\n",
            "  (batch_normal4): BatchNorm1d(16, eps=1e-05, momentum=0.1, affine=True, track_running_stats=True)\n",
            "  (linear5): Linear(in_features=16, out_features=16, bias=True)\n",
            "  (batch_normal5): BatchNorm1d(16, eps=1e-05, momentum=0.1, affine=True, track_running_stats=True)\n",
            "  (linear6): Linear(in_features=16, out_features=16, bias=True)\n",
            "  (batch_normal6): BatchNorm1d(16, eps=1e-05, momentum=0.1, affine=True, track_running_stats=True)\n",
            "  (linear7): Linear(in_features=16, out_features=1, bias=True)\n",
            "  (batch_normal7): BatchNorm1d(1, eps=1e-05, momentum=0.1, affine=True, track_running_stats=True)\n",
            "  (sigmoid): Sigmoid()\n",
            "  (model): Sequential(\n",
            "    (0): Linear(in_features=28, out_features=16, bias=True)\n",
            "    (1): BatchNorm1d(16, eps=1e-05, momentum=0.1, affine=True, track_running_stats=True)\n",
            "    (2): LeakyReLU(negative_slope=0.01)\n",
            "    (3): Linear(in_features=16, out_features=16, bias=True)\n",
            "    (4): BatchNorm1d(16, eps=1e-05, momentum=0.1, affine=True, track_running_stats=True)\n",
            "    (5): LeakyReLU(negative_slope=0.01)\n",
            "    (6): Linear(in_features=16, out_features=16, bias=True)\n",
            "    (7): BatchNorm1d(16, eps=1e-05, momentum=0.1, affine=True, track_running_stats=True)\n",
            "    (8): LeakyReLU(negative_slope=0.01)\n",
            "    (9): Linear(in_features=16, out_features=16, bias=True)\n",
            "    (10): BatchNorm1d(16, eps=1e-05, momentum=0.1, affine=True, track_running_stats=True)\n",
            "    (11): LeakyReLU(negative_slope=0.01)\n",
            "    (12): Linear(in_features=16, out_features=16, bias=True)\n",
            "    (13): BatchNorm1d(16, eps=1e-05, momentum=0.1, affine=True, track_running_stats=True)\n",
            "    (14): LeakyReLU(negative_slope=0.01)\n",
            "    (15): Linear(in_features=16, out_features=16, bias=True)\n",
            "    (16): BatchNorm1d(16, eps=1e-05, momentum=0.1, affine=True, track_running_stats=True)\n",
            "    (17): LeakyReLU(negative_slope=0.01)\n",
            "    (18): Linear(in_features=16, out_features=1, bias=True)\n",
            "    (19): BatchNorm1d(1, eps=1e-05, momentum=0.1, affine=True, track_running_stats=True)\n",
            "    (20): LeakyReLU(negative_slope=0.01)\n",
            "    (21): Sigmoid()\n",
            "  )\n",
            ")>\n"
          ]
        }
      ]
    },
    {
      "cell_type": "code",
      "source": [
        "nb_epochs = 50\n",
        "accuracy_list_train=[]\n",
        "accuracy_list_valid=[]\n",
        "f1_list_train=[]\n",
        "f1_list_valid=[]\n",
        "accuracy_mean=0\n",
        "f1_mean=0\n",
        "\n",
        "# x_valid, y_valid=dataset_valid\n",
        "\n",
        "x_valid=x_valid.to(device)\n",
        "y_valid=y_valid.to(device)\n",
        "\n",
        "for epoch in range(nb_epochs + 1):\n",
        "    for batch_idx, samples in enumerate(dataloader_train):\n",
        "\n",
        "        x_train, y_train = samples\n",
        "\n",
        "        x_train=x_train.to(device)\n",
        "        y_train=y_train.to(device)\n",
        "\n",
        "\n",
        "        # H(x) 계산\n",
        "        hypothesis = model1(x_train)\n",
        "        \n",
        "        \n",
        "    \n",
        "        # cost 계산\n",
        "        # print(y_train.size())\n",
        "        hypothesis=hypothesis.squeeze()\n",
        "        # print(hypothesis.size())\n",
        "        # print(hypothesis)\n",
        "        # print(y_train)\n",
        "        cost = F.binary_cross_entropy(hypothesis, y_train)\n",
        "\n",
        "        # cost로 H(x) 개선\n",
        "        optimizer1.zero_grad()\n",
        "        cost.backward()\n",
        "        optimizer1.step()\n",
        "\n",
        "        bigo=torch.FloatTensor([0.5]).to(device)\n",
        "\n",
        "        prediction = hypothesis >= bigo # 예측값이 0.5를 넘으면 True로 간주\n",
        "        correct_prediction = prediction.float() == y_train # 실제값과 일치하는 경우만 True로 간주\n",
        "        accuracy = correct_prediction.sum().item() / len(correct_prediction) # 정확도를 계산\n",
        "        accuracy_mean= accuracy+accuracy_mean\n",
        "        f1 = f1_score(y_train.cpu(), prediction.float().cpu())\n",
        "        f1_mean=f1 + f1_mean\n",
        "\n",
        "        # 20번마다 로그 출력\n",
        "        if epoch % 10 == 0:\n",
        "          if batch_idx %1000 == 0:\n",
        "              prediction = hypothesis >= bigo # 예측값이 0.5를 넘으면 True로 간주\n",
        "              correct_prediction = prediction.float() == y_train # 실제값과 일치하는 경우만 True로 간주\n",
        "              accuracy = correct_prediction.sum().item() / len(correct_prediction) # 정확도를 계산\n",
        "              f1 = f1_score(y_train.cpu(), prediction.float().cpu())\n",
        "              print('Epoch {:4d}/{} Batch {}/{} Cost: {:.6f} Accuracy {:2.2f}%  f1 score : {:2.6f}'.format( # 각 에포크마다 정확도를 출력\n",
        "                  epoch, nb_epochs, batch_idx+1, len(dataloader_train), cost.item(), accuracy * 100, f1\n",
        "              ))\n",
        "\n",
        "    accuracy_mean=accuracy_mean/len(dataloader_train)\n",
        "    accuracy_list_train.append(accuracy_mean)\n",
        "    f1_mean=f1_mean/len(dataloader_train)\n",
        "    f1_list_train.append(f1_mean)\n",
        "\n",
        "    valid_hypothesis = model1(x_valid)\n",
        "    valid_hypothesis=valid_hypothesis.squeeze()\n",
        "    valid_prediction = valid_hypothesis >= bigo # 예측값이 0.5를 넘으면 True로 간주\n",
        "    valid_correct_prediction = valid_prediction.float() == y_valid # 실제값과 일치하는 경우만 True로 간주\n",
        "    valid_accuracy = valid_correct_prediction.sum().item() / len(valid_correct_prediction) # 정확도를 계산\n",
        "    # print(valid_hypothesis)\n",
        "    # print(valid_prediction)\n",
        "    \n",
        "    # print(valid_accuracy)\n",
        "    # print(len(valid_correct_prediction))\n",
        "    # print(valid_correct_prediction.sum().item())\n",
        "    valid_f1 = f1_score(y_valid.cpu(), valid_prediction.float().cpu())\n",
        "\n",
        "    accuracy_list_valid.append(valid_accuracy)\n",
        "    f1_list_valid.append(valid_f1)\n",
        "    torch.save(model1.state_dict(), f'{epoch:04d}.pt')"
      ],
      "metadata": {
        "colab": {
          "base_uri": "https://localhost:8080/"
        },
        "id": "LeWz9VV4dSwc",
        "outputId": "21c1e14a-44ea-4fcf-96d4-d6330727e3d3"
      },
      "execution_count": 11,
      "outputs": [
        {
          "output_type": "stream",
          "name": "stdout",
          "text": [
            "Epoch    0/50 Batch 1/6275 Cost: 0.703325 Accuracy 56.25%  f1 score : 0.588235\n",
            "Epoch    0/50 Batch 1001/6275 Cost: 0.675878 Accuracy 60.94%  f1 score : 0.626866\n",
            "Epoch    0/50 Batch 2001/6275 Cost: 0.693582 Accuracy 54.69%  f1 score : 0.508475\n",
            "Epoch    0/50 Batch 3001/6275 Cost: 0.696525 Accuracy 48.44%  f1 score : 0.492308\n",
            "Epoch    0/50 Batch 4001/6275 Cost: 0.690222 Accuracy 48.44%  f1 score : 0.476190\n",
            "Epoch    0/50 Batch 5001/6275 Cost: 0.704762 Accuracy 51.56%  f1 score : 0.392157\n",
            "Epoch    0/50 Batch 6001/6275 Cost: 0.680728 Accuracy 57.81%  f1 score : 0.526316\n",
            "Epoch   10/50 Batch 1/6275 Cost: 0.680871 Accuracy 67.19%  f1 score : 0.631579\n",
            "Epoch   10/50 Batch 1001/6275 Cost: 0.681709 Accuracy 51.56%  f1 score : 0.537313\n",
            "Epoch   10/50 Batch 2001/6275 Cost: 0.684839 Accuracy 59.38%  f1 score : 0.566667\n",
            "Epoch   10/50 Batch 3001/6275 Cost: 0.698166 Accuracy 56.25%  f1 score : 0.517241\n",
            "Epoch   10/50 Batch 4001/6275 Cost: 0.689839 Accuracy 56.25%  f1 score : 0.575758\n",
            "Epoch   10/50 Batch 5001/6275 Cost: 0.656142 Accuracy 59.38%  f1 score : 0.628571\n",
            "Epoch   10/50 Batch 6001/6275 Cost: 0.679392 Accuracy 62.50%  f1 score : 0.636364\n",
            "Epoch   20/50 Batch 1/6275 Cost: 0.720302 Accuracy 50.00%  f1 score : 0.407407\n",
            "Epoch   20/50 Batch 1001/6275 Cost: 0.686818 Accuracy 53.12%  f1 score : 0.516129\n",
            "Epoch   20/50 Batch 2001/6275 Cost: 0.653945 Accuracy 68.75%  f1 score : 0.687500\n",
            "Epoch   20/50 Batch 3001/6275 Cost: 0.696718 Accuracy 56.25%  f1 score : 0.440000\n",
            "Epoch   20/50 Batch 4001/6275 Cost: 0.682238 Accuracy 60.94%  f1 score : 0.545455\n",
            "Epoch   20/50 Batch 5001/6275 Cost: 0.686301 Accuracy 50.00%  f1 score : 0.515152\n",
            "Epoch   20/50 Batch 6001/6275 Cost: 0.703122 Accuracy 57.81%  f1 score : 0.542373\n",
            "Epoch   30/50 Batch 1/6275 Cost: 0.678945 Accuracy 54.69%  f1 score : 0.591549\n",
            "Epoch   30/50 Batch 1001/6275 Cost: 0.650062 Accuracy 62.50%  f1 score : 0.666667\n",
            "Epoch   30/50 Batch 2001/6275 Cost: 0.690160 Accuracy 60.94%  f1 score : 0.528302\n",
            "Epoch   30/50 Batch 3001/6275 Cost: 0.658359 Accuracy 57.81%  f1 score : 0.608696\n",
            "Epoch   30/50 Batch 4001/6275 Cost: 0.666361 Accuracy 68.75%  f1 score : 0.696970\n",
            "Epoch   30/50 Batch 5001/6275 Cost: 0.649606 Accuracy 70.31%  f1 score : 0.698413\n",
            "Epoch   30/50 Batch 6001/6275 Cost: 0.667211 Accuracy 57.81%  f1 score : 0.619718\n",
            "Epoch   40/50 Batch 1/6275 Cost: 0.681745 Accuracy 57.81%  f1 score : 0.542373\n",
            "Epoch   40/50 Batch 1001/6275 Cost: 0.685088 Accuracy 60.94%  f1 score : 0.603175\n",
            "Epoch   40/50 Batch 2001/6275 Cost: 0.669726 Accuracy 65.62%  f1 score : 0.620690\n",
            "Epoch   40/50 Batch 3001/6275 Cost: 0.676053 Accuracy 59.38%  f1 score : 0.617647\n",
            "Epoch   40/50 Batch 4001/6275 Cost: 0.669148 Accuracy 65.62%  f1 score : 0.645161\n",
            "Epoch   40/50 Batch 5001/6275 Cost: 0.682387 Accuracy 54.69%  f1 score : 0.579710\n",
            "Epoch   40/50 Batch 6001/6275 Cost: 0.706027 Accuracy 54.69%  f1 score : 0.524590\n",
            "Epoch   50/50 Batch 1/6275 Cost: 0.682645 Accuracy 56.25%  f1 score : 0.575758\n",
            "Epoch   50/50 Batch 1001/6275 Cost: 0.687519 Accuracy 46.88%  f1 score : 0.484848\n",
            "Epoch   50/50 Batch 2001/6275 Cost: 0.677001 Accuracy 65.62%  f1 score : 0.633333\n",
            "Epoch   50/50 Batch 3001/6275 Cost: 0.678578 Accuracy 57.81%  f1 score : 0.542373\n",
            "Epoch   50/50 Batch 4001/6275 Cost: 0.708823 Accuracy 51.56%  f1 score : 0.491803\n",
            "Epoch   50/50 Batch 5001/6275 Cost: 0.675672 Accuracy 59.38%  f1 score : 0.638889\n",
            "Epoch   50/50 Batch 6001/6275 Cost: 0.682584 Accuracy 65.62%  f1 score : 0.576923\n"
          ]
        }
      ]
    },
    {
      "cell_type": "code",
      "source": [
        "import matplotlib.pyplot as plt\n",
        "\n",
        "\n",
        "t=range(0,nb_epochs+1)\n",
        "print(len(accuracy_list_train))\n",
        "print(len(accuracy_list_valid))\n",
        "\n",
        "plt.plot(t,accuracy_list_train,'r--',t,accuracy_list_valid,'g-')\n",
        "\n",
        "\n",
        "plt.show()\n",
        "\n",
        "print(accuracy_list_train)\n",
        "print(accuracy_list_valid)"
      ],
      "metadata": {
        "colab": {
          "base_uri": "https://localhost:8080/",
          "height": 358
        },
        "id": "WLWQoMvHdhcA",
        "outputId": "6601ed87-502e-43dd-a925-0a4799a11e98"
      },
      "execution_count": 12,
      "outputs": [
        {
          "output_type": "stream",
          "name": "stdout",
          "text": [
            "51\n",
            "51\n"
          ]
        },
        {
          "output_type": "display_data",
          "data": {
            "image/png": "[encoded data removed]",
            "text/plain": [
              "<Figure size 432x288 with 1 Axes>"
            ]
          },
          "metadata": {
            "needs_background": "light"
          }
        },
        {
          "output_type": "stream",
          "name": "stdout",
          "text": [
            "[0.5525655710491368, 0.5620111990285869, 0.5670127043079461, 0.571438302157393, 0.5770142066351379, 0.5795773462215089, 0.5815150056859848, 0.5825694313422076, 0.583844499776575, 0.5837185409561397, 0.5840413960490236, 0.5839526360790517, 0.5857471106458559, 0.5849240234439276, 0.5852509175070562, 0.5844981475565748, 0.5838240568097036, 0.5858325815229976, 0.5862678285654486, 0.5863774596805151, 0.586525219515487, 0.5869950305794712, 0.5870573564457763, 0.5884924593396726, 0.5871322962750608, 0.588445990538583, 0.5881722955097805, 0.5890122253326178, 0.5891119607796015, 0.5902084242168573, 0.5892989043969535, 0.5895768139024271, 0.5894938568627733, 0.5893295010130458, 0.5903296408235346, 0.5896491893185907, 0.5892407143462394, 0.5903271366344244, 0.5903190096366482, 0.5906402234809515, 0.5902817089333569, 0.589928066142194, 0.5907314626400227, 0.5913433104588537, 0.5907366682566468, 0.5912669500666544, 0.5907823068180718, 0.5919243278576602, 0.59108453641347, 0.591900305636613, 0.5920556481230762]\n",
            "[0.5559362891095815, 0.5638055204151766, 0.5693339044336644, 0.5780398641312469, 0.5814166608560528, 0.5831498839537409, 0.5836877807771613, 0.5863573427896923, 0.5862079270054088, 0.5864669143648334, 0.5848233407377156, 0.5837375860385892, 0.5889472163839388, 0.5873434869659631, 0.5840264565548705, 0.5867358627765437, 0.5879212279985258, 0.5899632437170663, 0.5885985795539441, 0.5890468269067944, 0.5852815491428515, 0.5885188911356596, 0.5918658047036089, 0.5901624647627776, 0.5889671384885099, 0.590152503710492, 0.5906505563247701, 0.5916765447101832, 0.5905907900110567, 0.5921745973244613, 0.5903816079130599, 0.590082776344493, 0.5911884531481906, 0.5937484435855804, 0.5918558436513234, 0.5940373141018617, 0.5942763793567153, 0.593439650964728, 0.5940074309450051, 0.5899931268739229, 0.5939078204221494, 0.5916964668147543, 0.5945552888207111, 0.5936289109581536, 0.5936388720104392, 0.593917781474435, 0.5946748214481378, 0.5927224552001673, 0.5948441593369923, 0.59188572680818, 0.5934794951738702]\n"
          ]
        }
      ]
    },
    {
      "cell_type": "code",
      "source": [
        "plt.plot(t,f1_list_train,'r--',t,f1_list_valid,'g-')\n",
        "\n",
        "plt.show()\n",
        "\n",
        "print(f1_list_train)\n",
        "print(f1_list_valid)"
      ],
      "metadata": {
        "colab": {
          "base_uri": "https://localhost:8080/",
          "height": 322
        },
        "id": "PRRxLSn2dlS7",
        "outputId": "b936d3c1-6d31-43c6-eade-888d6817f5e5"
      },
      "execution_count": 13,
      "outputs": [
        {
          "output_type": "display_data",
          "data": {
            "image/png": "[encoded data removed]",
            "text/plain": [
              "<Figure size 432x288 with 1 Axes>"
            ]
          },
          "metadata": {
            "needs_background": "light"
          }
        },
        {
          "output_type": "stream",
          "name": "stdout",
          "text": [
            "[0.5229656950497057, 0.5391718499944794, 0.5561696721082662, 0.5580170432602397, 0.5643289272966526, 0.5634168068688116, 0.5668309959003676, 0.5740110168892544, 0.5809596463521979, 0.5753088566568361, 0.5712609258038306, 0.5687161227772307, 0.5789800757832663, 0.5754357728202194, 0.5758581622880963, 0.5698252097972278, 0.5648578118326844, 0.571836364170642, 0.5719634779682761, 0.5751842995721569, 0.5755377193102061, 0.5758980367537698, 0.5769069028365134, 0.582152421885983, 0.5773362403619533, 0.581271116149503, 0.5795770055048498, 0.5835157658885287, 0.5825770265249544, 0.5892411652452123, 0.5834648680892702, 0.5840048286736877, 0.5801722121242425, 0.5793992378622187, 0.5841910333775249, 0.5837649978243824, 0.579587085974777, 0.5839899894647809, 0.5818894144305633, 0.5814984504447425, 0.579335019626676, 0.5793642959506747, 0.5796782555050158, 0.5833093685156487, 0.5824674913944138, 0.5809554526771208, 0.5796679176130385, 0.5852306860840746, 0.5783349169665709, 0.5825019950316326, 0.5848940736477578]\n",
            "[0.5061482220006647, 0.5738033597414984, 0.550613767942708, 0.5792218370367427, 0.5575700147399452, 0.5675072343943778, 0.5655328703896212, 0.587700311761552, 0.5827163966208276, 0.5831366918033116, 0.5717925536286678, 0.5690745037380768, 0.58716660997619, 0.5859742751776452, 0.5793714746172441, 0.5693764012289296, 0.589646176584369, 0.586490939044481, 0.5804151046905002, 0.5797322902023103, 0.5689080328853361, 0.5884204967768291, 0.5879750208662249, 0.5905010251408324, 0.5847438864848546, 0.5817960054886415, 0.5822532605491344, 0.5949727294285037, 0.5918673352862321, 0.5885556940145515, 0.5821953994960579, 0.5948808820633984, 0.5776414773955192, 0.5895247488878601, 0.5940354701278113, 0.5923236203222999, 0.5904250505294276, 0.6013887668102311, 0.5982216789558772, 0.5939969027727089, 0.591322827699587, 0.5716823406478578, 0.5891034635924045, 0.5973946511398401, 0.5813020229285765, 0.5806856402291639, 0.5893572574704061, 0.5728255759285379, 0.5951063152026758, 0.5956396869417605, 0.5744465646864996]\n"
          ]
        }
      ]
    },
    {
      "cell_type": "code",
      "source": [
        "result=pd.read_csv('sample_submission.csv')\n",
        "\n",
        "model2=LogisticRegression().cuda()\n",
        "model2.load_state_dict(torch.load('0010.pt'))\n",
        "\n",
        "x_test=x_test.to(device)\n",
        "hypothesis=model2(x_test)\n",
        "print(hypothesis)\n",
        "prediction = hypothesis >= torch.FloatTensor([0.5]).to(device) # 예측값이 0.5를 넘으면 True로 간주\n",
        "\n",
        "print(prediction)\n",
        "\n",
        "prediction = torch.squeeze(prediction)\n",
        "prediction=prediction.cpu()\n",
        "prediction=np.array(prediction)\n",
        "prediction=pd.Series(prediction)\n",
        "\n",
        "prediction=prediction.replace([True,False],[1,0])\n",
        "\n",
        "result['target']=prediction\n",
        "result.to_csv('result.csv',index=False)"
      ],
      "metadata": {
        "colab": {
          "base_uri": "https://localhost:8080/"
        },
        "id": "epZdJmVidn5s",
        "outputId": "7834b097-4b05-4ef9-a6d8-5f8f1e2b82c5"
      },
      "execution_count": 18,
      "outputs": [
        {
          "output_type": "stream",
          "name": "stdout",
          "text": [
            "tensor([[0.5073],\n",
            "        [0.4953],\n",
            "        [0.4996],\n",
            "        ...,\n",
            "        [0.6659],\n",
            "        [0.6143],\n",
            "        [0.5780]], device='cuda:0', grad_fn=<SigmoidBackward0>)\n",
            "tensor([[ True],\n",
            "        [False],\n",
            "        [False],\n",
            "        ...,\n",
            "        [ True],\n",
            "        [ True],\n",
            "        [ True]], device='cuda:0')\n"
          ]
        }
      ]
    }
  ]
}