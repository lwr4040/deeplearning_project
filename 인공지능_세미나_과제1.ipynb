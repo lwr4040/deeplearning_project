{
  "cells": [
    {
      "cell_type": "code",
      "source": [
        "from sklearn.tree import DecisionTreeClassifier\n",
        "from sklearn.model_selection import train_test_split\n",
        "from sklearn.preprocessing import StandardScaler\n",
        "from sklearn.ensemble import RandomForestClassifier\n",
        "import numpy as np\n",
        "import pandas as pd\n",
        "dt_clf= DecisionTreeClassifier(random_state=156, max_depth=1)"
      ],
      "metadata": {
        "id": "MsFGvH2KSqsx"
      },
      "execution_count": null,
      "outputs": []
    },
    {
      "cell_type": "code",
      "source": [
        "DF=pd.read_csv(\"최영준_심박수.csv\")\n",
        "print(DF)\n",
        "data=DF['heartrate']\n",
        "target=DF['drowneiss']\n",
        "X_train, x_test, y_train, y_test=train_test_split(data,target,test_size=0.7)\n",
        "dt_clf.fit(X_train,y_train)"
      ],
      "metadata": {
        "id": "6N2cGfKbjE_K",
        "colab": {
          "base_uri": "https://localhost:8080/",
          "height": 1000
        },
        "outputId": "64d3528e-bf94-4061-ae84-238b4b12b91a"
      },
      "execution_count": null,
      "outputs": [
        {
          "output_type": "stream",
          "name": "stdout",
          "text": [
            "      heartrate  drowneiss\n",
            "0           107          3\n",
            "1           109          3\n",
            "2           117          3\n",
            "3           111          3\n",
            "4            61          0\n",
            "...         ...        ...\n",
            "2717         58          0\n",
            "2718         63          0\n",
            "2719         64          0\n",
            "2720         72          1\n",
            "2721         83          2\n",
            "\n",
            "[2722 rows x 2 columns]\n"
          ]
        },
        {
          "output_type": "error",
          "ename": "ValueError",
          "evalue": "ignored",
          "traceback": [
            "\u001b[0;31m---------------------------------------------------------------------------\u001b[0m",
            "\u001b[0;31mValueError\u001b[0m                                Traceback (most recent call last)",
            "\u001b[0;32m<ipython-input-24-d6bf82c8158f>\u001b[0m in \u001b[0;36m<module>\u001b[0;34m()\u001b[0m\n\u001b[1;32m      4\u001b[0m \u001b[0mtarget\u001b[0m\u001b[0;34m=\u001b[0m\u001b[0mDF\u001b[0m\u001b[0;34m[\u001b[0m\u001b[0;34m'drowneiss'\u001b[0m\u001b[0;34m]\u001b[0m\u001b[0;34m\u001b[0m\u001b[0;34m\u001b[0m\u001b[0m\n\u001b[1;32m      5\u001b[0m \u001b[0mX_train\u001b[0m\u001b[0;34m,\u001b[0m \u001b[0mx_test\u001b[0m\u001b[0;34m,\u001b[0m \u001b[0my_train\u001b[0m\u001b[0;34m,\u001b[0m \u001b[0my_test\u001b[0m\u001b[0;34m=\u001b[0m\u001b[0mtrain_test_split\u001b[0m\u001b[0;34m(\u001b[0m\u001b[0mdata\u001b[0m\u001b[0;34m,\u001b[0m\u001b[0mtarget\u001b[0m\u001b[0;34m,\u001b[0m\u001b[0mtest_size\u001b[0m\u001b[0;34m=\u001b[0m\u001b[0;36m0.7\u001b[0m\u001b[0;34m)\u001b[0m\u001b[0;34m\u001b[0m\u001b[0;34m\u001b[0m\u001b[0m\n\u001b[0;32m----> 6\u001b[0;31m \u001b[0mdt_clf\u001b[0m\u001b[0;34m.\u001b[0m\u001b[0mfit\u001b[0m\u001b[0;34m(\u001b[0m\u001b[0mX_train\u001b[0m\u001b[0;34m,\u001b[0m\u001b[0my_train\u001b[0m\u001b[0;34m)\u001b[0m\u001b[0;34m\u001b[0m\u001b[0;34m\u001b[0m\u001b[0m\n\u001b[0m",
            "\u001b[0;32m/usr/local/lib/python3.7/dist-packages/sklearn/tree/_classes.py\u001b[0m in \u001b[0;36mfit\u001b[0;34m(self, X, y, sample_weight, check_input, X_idx_sorted)\u001b[0m\n\u001b[1;32m    940\u001b[0m             \u001b[0msample_weight\u001b[0m\u001b[0;34m=\u001b[0m\u001b[0msample_weight\u001b[0m\u001b[0;34m,\u001b[0m\u001b[0;34m\u001b[0m\u001b[0;34m\u001b[0m\u001b[0m\n\u001b[1;32m    941\u001b[0m             \u001b[0mcheck_input\u001b[0m\u001b[0;34m=\u001b[0m\u001b[0mcheck_input\u001b[0m\u001b[0;34m,\u001b[0m\u001b[0;34m\u001b[0m\u001b[0;34m\u001b[0m\u001b[0m\n\u001b[0;32m--> 942\u001b[0;31m             \u001b[0mX_idx_sorted\u001b[0m\u001b[0;34m=\u001b[0m\u001b[0mX_idx_sorted\u001b[0m\u001b[0;34m,\u001b[0m\u001b[0;34m\u001b[0m\u001b[0;34m\u001b[0m\u001b[0m\n\u001b[0m\u001b[1;32m    943\u001b[0m         )\n\u001b[1;32m    944\u001b[0m         \u001b[0;32mreturn\u001b[0m \u001b[0mself\u001b[0m\u001b[0;34m\u001b[0m\u001b[0;34m\u001b[0m\u001b[0m\n",
            "\u001b[0;32m/usr/local/lib/python3.7/dist-packages/sklearn/tree/_classes.py\u001b[0m in \u001b[0;36mfit\u001b[0;34m(self, X, y, sample_weight, check_input, X_idx_sorted)\u001b[0m\n\u001b[1;32m    164\u001b[0m             \u001b[0mcheck_y_params\u001b[0m \u001b[0;34m=\u001b[0m \u001b[0mdict\u001b[0m\u001b[0;34m(\u001b[0m\u001b[0mensure_2d\u001b[0m\u001b[0;34m=\u001b[0m\u001b[0;32mFalse\u001b[0m\u001b[0;34m,\u001b[0m \u001b[0mdtype\u001b[0m\u001b[0;34m=\u001b[0m\u001b[0;32mNone\u001b[0m\u001b[0;34m)\u001b[0m\u001b[0;34m\u001b[0m\u001b[0;34m\u001b[0m\u001b[0m\n\u001b[1;32m    165\u001b[0m             X, y = self._validate_data(\n\u001b[0;32m--> 166\u001b[0;31m                 \u001b[0mX\u001b[0m\u001b[0;34m,\u001b[0m \u001b[0my\u001b[0m\u001b[0;34m,\u001b[0m \u001b[0mvalidate_separately\u001b[0m\u001b[0;34m=\u001b[0m\u001b[0;34m(\u001b[0m\u001b[0mcheck_X_params\u001b[0m\u001b[0;34m,\u001b[0m \u001b[0mcheck_y_params\u001b[0m\u001b[0;34m)\u001b[0m\u001b[0;34m\u001b[0m\u001b[0;34m\u001b[0m\u001b[0m\n\u001b[0m\u001b[1;32m    167\u001b[0m             )\n\u001b[1;32m    168\u001b[0m             \u001b[0;32mif\u001b[0m \u001b[0missparse\u001b[0m\u001b[0;34m(\u001b[0m\u001b[0mX\u001b[0m\u001b[0;34m)\u001b[0m\u001b[0;34m:\u001b[0m\u001b[0;34m\u001b[0m\u001b[0;34m\u001b[0m\u001b[0m\n",
            "\u001b[0;32m/usr/local/lib/python3.7/dist-packages/sklearn/base.py\u001b[0m in \u001b[0;36m_validate_data\u001b[0;34m(self, X, y, reset, validate_separately, **check_params)\u001b[0m\n\u001b[1;32m    571\u001b[0m                 \u001b[0;31m# :(\u001b[0m\u001b[0;34m\u001b[0m\u001b[0;34m\u001b[0m\u001b[0;34m\u001b[0m\u001b[0m\n\u001b[1;32m    572\u001b[0m                 \u001b[0mcheck_X_params\u001b[0m\u001b[0;34m,\u001b[0m \u001b[0mcheck_y_params\u001b[0m \u001b[0;34m=\u001b[0m \u001b[0mvalidate_separately\u001b[0m\u001b[0;34m\u001b[0m\u001b[0;34m\u001b[0m\u001b[0m\n\u001b[0;32m--> 573\u001b[0;31m                 \u001b[0mX\u001b[0m \u001b[0;34m=\u001b[0m \u001b[0mcheck_array\u001b[0m\u001b[0;34m(\u001b[0m\u001b[0mX\u001b[0m\u001b[0;34m,\u001b[0m \u001b[0;34m**\u001b[0m\u001b[0mcheck_X_params\u001b[0m\u001b[0;34m)\u001b[0m\u001b[0;34m\u001b[0m\u001b[0;34m\u001b[0m\u001b[0m\n\u001b[0m\u001b[1;32m    574\u001b[0m                 \u001b[0my\u001b[0m \u001b[0;34m=\u001b[0m \u001b[0mcheck_array\u001b[0m\u001b[0;34m(\u001b[0m\u001b[0my\u001b[0m\u001b[0;34m,\u001b[0m \u001b[0;34m**\u001b[0m\u001b[0mcheck_y_params\u001b[0m\u001b[0;34m)\u001b[0m\u001b[0;34m\u001b[0m\u001b[0;34m\u001b[0m\u001b[0m\n\u001b[1;32m    575\u001b[0m             \u001b[0;32melse\u001b[0m\u001b[0;34m:\u001b[0m\u001b[0;34m\u001b[0m\u001b[0;34m\u001b[0m\u001b[0m\n",
            "\u001b[0;32m/usr/local/lib/python3.7/dist-packages/sklearn/utils/validation.py\u001b[0m in \u001b[0;36mcheck_array\u001b[0;34m(array, accept_sparse, accept_large_sparse, dtype, order, copy, force_all_finite, ensure_2d, allow_nd, ensure_min_samples, ensure_min_features, estimator)\u001b[0m\n\u001b[1;32m    763\u001b[0m                     \u001b[0;34m\"Reshape your data either using array.reshape(-1, 1) if \"\u001b[0m\u001b[0;34m\u001b[0m\u001b[0;34m\u001b[0m\u001b[0m\n\u001b[1;32m    764\u001b[0m                     \u001b[0;34m\"your data has a single feature or array.reshape(1, -1) \"\u001b[0m\u001b[0;34m\u001b[0m\u001b[0;34m\u001b[0m\u001b[0m\n\u001b[0;32m--> 765\u001b[0;31m                     \u001b[0;34m\"if it contains a single sample.\"\u001b[0m\u001b[0;34m.\u001b[0m\u001b[0mformat\u001b[0m\u001b[0;34m(\u001b[0m\u001b[0marray\u001b[0m\u001b[0;34m)\u001b[0m\u001b[0;34m\u001b[0m\u001b[0;34m\u001b[0m\u001b[0m\n\u001b[0m\u001b[1;32m    766\u001b[0m                 )\n\u001b[1;32m    767\u001b[0m \u001b[0;34m\u001b[0m\u001b[0m\n",
            "\u001b[0;31mValueError\u001b[0m: Expected 2D array, got 1D array instead:\narray=[ 77.  62.  74. 105.  69.  95.  71.  70.  66.  68.  92.  64.  64.  50.\n  65.  72.  59.  67. 115.  65.  92.  68.  81.  49. 102. 111.  64.  65.\n  79.  72.  70. 123.  67.  88.  70.  63.  91.  65.  73.  60.  61.  55.\n  73. 124.  70.  65.  84.  82. 101.  70.  69.  67. 104.  64. 103. 123.\n 104.  81.  63. 108. 102.  93. 117.  82.  54.  82.  87.  61.  77.  92.\n  64.  86.  62.  70.  76.  61.  94.  64.  70.  54. 112.  72.  78. 115.\n 117.  95.  87.  63. 105.  62. 115.  72.  70.  63. 108.  92.  61.  56.\n  99. 103.  98.  56. 123.  75.  69.  65.  67.  70.  57.  57.  88.  61.\n 101.  59.  56.  90.  65.  65.  87. 107.  91.  61. 133.  95.  77. 120.\n  70. 119.  69. 114. 112.  92.  64.  69.  55. 122.  62.  66.  69.  70.\n  89.  98.  93.  68. 110.  69. 102.  58.  62.  67. 112.  63.  85.  55.\n  63.  65. 111.  40.  68.  71. 119. 111. 125.  66. 110.  70. 108.  99.\n 103.  61.  59.  60.  62.  93.  75.  60. 108.  63.  64.  97.  93.  75.\n  66.  66. 105.  64.  92.  92.  58.  82.  67.  74.  72.  79. 111.  67.\n 106.  75. 107.  60.  75.  78. 112.  64.  69.  66.  92.  98.  94.  66.\n  58. 104.  74. 105. 123.  66.  83.  72.  88.  66.  65.  87.  69.  66.\n  68.  77. 116. 110.  61. 110.  67.  59. 100.  54.  77.  86.  70.  69.\n  80.  71.  85. 104.  68. 106.  70.  74.  64.  75.  64.  64.  83. 111.\n  73.  63. 124.  72.  75.  70.  66. 124. 100.  83. 114. 108. 115.  73.\n 116.  57.  55.  95.  72. 101.  90.  74.  76.  98.  57.  66.  84.  65.\n  68.  70.  83.  90.  71.  79.  68.  99.  68.  63.  69. 120.  71.  93.\n  59.  93.  72.  66.  76.  64. 119.  94. 118. 104. 112.  66.  90.  59.\n 117.  82. 112.  62. 109.  66.  85.  61. 108.  68.  65.  46.  62.  70.\n  62.  97.  65.  84.  75.  65.  76.  55.  55.  63.  90.  88.  65. 118.\n  68.  78.  99. 107. 103.  69.  75.  71.  72.  84.  67.  65.  78.  77.\n  96.  59.  69.  72.  70.  62. 110.  89.  64.  77.  74.  61.  62.  96.\n  78.  70.  99. 101. 131.  79. 111.  88.  84.  66. 122. 106.  57. 111.\n  59.  55.  63. 120.  63.  66.  64.  73.  65.  64.  72. 125.  68.  72.\n  88.  67.  98.  77.  60.  71.  98.  61.  62.  68.  61.  68.  65.  66.\n  66.  67. 131.  61.  85.  67. 123. 136.  61.  48.  62.  92.  97.  68.\n  62.  91.  74.  64. 127. 103. 105.  62.  63.  93.  75.  77. 107.  77.\n  67.  76.  71.  98.  75.  69. 103.  64. 123.  74.  65.  66.  66.  94.\n  57.  66.  62.  98.  73.  70.  71.  65. 101.  57. 125. 110.  87. 106.\n  75.  78.  66.  97.  96.  58.  88. 117.  76.  73.  72.  65.  65. 114.\n  71.  90.  84.  82.  72.  66.  62. 100.  75.  91. 102. 104.  97.  97.\n 100.  63.  75. 110. 110.  60.  76.  59.  67.  65.  65.  99.  98. 109.\n  54. 112.  55.  59.  64. 112.  66.  73.  68.  66.  67.  63.  68. 102.\n 120.  87.  90.  64.  62.  83.  84.  80. 107.  72.  82.  82.  97.  77.\n  62. 105.  65.  89.  32.  83.  62.  93. 106.  66. 110.  75. 124.  68.\n  94.  58.  70.  99. 131.  83.  76.  68.  91.  72.  68.  94.  63.  68.\n  74.  68.  91.  57.  70. 109.  56.  97. 125.  73.  57.  63. 104.  85.\n 118.  57.  64.  67. 111.  78.  72.  92.  66.  94.  77.  72.  77.  63.\n  57.  72.  81.  74.  50.  63.  79. 107. 100.  76. 108.  68.  86.  69.\n 101.  99.  65.  65.  69.  75.  65. 113. 105.  61. 114.  64.  59.  94.\n  58.  65.  98.  66.  63.  73. 101. 105.  65.  63.  73.  74. 117.  66.\n  67.  75.  72. 116.  63.  66.  69.  57. 112. 133.  67.  95. 112.  76.\n  64.  64.  70.  69.  67.  73.  76.  98.  68. 113. 115.  64.  63.  65.\n  63.  60.  85. 101. 121.  60.  68.  73.  68.  92.  67.  76.  77.  70.\n  81.  63.  73.  68.  77. 112. 116.  67.  65.  67. 110.  74.  57.  95.\n 102.  53.  79.  72.  59. 109.  61.  90.  69.  98.  56.  62.  66.  81.\n  61.  64.  53.  65. 116.  61. 123.  56. 110.  64.  63. 111.  66.  62.\n  67.  66.  99.  72.  76.  70.  57.  86.  67.  78.  67.  73.  66.  59.\n  80. 104. 104.  71.  69. 106.  67.  68.  65. 110.  64. 107.  36.  81.\n  72.  63.  70.  59.  58.  64.  73.  65.  88.  88.  73.  78. 122. 105.\n  59.  69.  73.  60. 120.  83.  98.  82.  88. 119.  67.  77.  98.  62.\n  72.  77.  70.  62.  92. 100. 106.  65.  51.  60.  62.  60.  65.  57.\n  63.  44.  62.  51.  69. 113.  74.  86.  90.  61.  58.  69.  77.  64.\n  61.  66. 102.  65.  80.  69.  61.  66.  96. 110.  55.  54.  56.  93.\n  64.  61.  63.  66.].\nReshape your data either using array.reshape(-1, 1) if your data has a single feature or array.reshape(1, -1) if it contains a single sample."
          ]
        }
      ]
    }
  ],
  "metadata": {
    "colab": {
      "collapsed_sections": [],
      "name": "인공지능 세미나 과제1",
      "provenance": []
    },
    "kernelspec": {
      "display_name": "Python 3",
      "name": "python3"
    }
  },
  "nbformat": 4,
  "nbformat_minor": 0
}